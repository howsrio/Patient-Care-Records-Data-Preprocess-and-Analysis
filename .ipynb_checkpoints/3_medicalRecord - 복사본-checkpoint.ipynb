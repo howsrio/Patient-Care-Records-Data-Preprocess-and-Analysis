{
 "cells": [
  {
   "cell_type": "code",
   "execution_count": 1,
   "metadata": {},
   "outputs": [],
   "source": [
    "import numpy as np\n",
    "import pandas as pd\n",
    "import os \n",
    "import sys\n",
    "import time\n",
    "import matplotlib.pyplot as plt"
   ]
  },
  {
   "cell_type": "code",
   "execution_count": 2,
   "metadata": {},
   "outputs": [],
   "source": [
    "pd.set_option('display.max_columns',100)\n",
    "pd.set_option('display.max_rows',300)"
   ]
  },
  {
   "cell_type": "code",
   "execution_count": 3,
   "metadata": {},
   "outputs": [],
   "source": [
    "class medicalRecord:\n",
    "    \n",
    "    def __init__(self, region):\n",
    "        self.medicalRecordPath = os.getcwd()[:-5] +'\\\\region\\\\'+region +'\\\\0_commonPatientID\\\\{}_TMedicalRecord.csv'.format(region)\n",
    "        self.medicationPath    = os.getcwd()[:-5] +'\\\\region\\\\'+region +'\\\\0_commonPatientID\\\\{}_TMedication.csv'.format(region)\n",
    "        self.path = os.getcwd()[:-5] +'\\\\region\\\\'+ region +'\\\\0_commonPatientID'\n",
    "        \n",
    "    def basicPreprocessing(self):\n",
    "        self.medicalRecord_df = pd.read_csv(self.medicalRecordPath, encoding = 'utf-16', index_col = 0)\n",
    "        colList = list(self.medicalRecord_df.columns[[0,1,3,5]])\n",
    "        \n",
    "        self.medicalRecord_df = self.medicalRecord_df[colList]\n",
    "        self.medicalRecord_df['ConsultTime'] = self.medicalRecord_df['ConsultTime'] // 1000000\n",
    "        \n",
    "    def progressNoteStrip(self):\n",
    "        for i in self.medicalRecord_df.index:\n",
    "            if type(self.medicalRecord_df.loc[i,'ProgressNote']) == float:\n",
    "                self.medicalRecord_df.loc[i,'ProgressNote'] = ''\n",
    "            else:\n",
    "                self.medicalRecord_df.loc[i,'ProgressNote'] = self.medicalRecord_df.loc[i,'ProgressNote'].strip()\n",
    "            \n",
    "    def medication(self):\n",
    "        self.medication_df = pd.read_csv(self.medicationPath, encoding = 'utf-16', index_col = 0)\n",
    "        \n",
    "    def bothNanDelete(self):\n",
    "        recordBlankIndex = self.medicalRecord_df.loc[self.medicalRecord_df['ProgressNote'] == ''].index\n",
    "        dropList = []\n",
    "        \n",
    "        for i in recordBlankIndex :\n",
    "            patientID, consultTime = self.medicalRecord_df.loc[i,['PatientID','ConsultTime']]\n",
    "            if len(self.medication_df.loc[ (self.medication_df['PatientID'] == patientID) & ( self.medication_df['ConsultTime'] == consultTime ) ] ) == 0:\n",
    "                dropList.append(i)\n",
    "        \n",
    "        self.medicalRecord_df.drop(dropList, inplace = True)\n",
    "        self.medicalRecord_df.sort_values(['PatientID','ConsultTime'])\n",
    "        \n",
    "    def deleteOverlap(self):\n",
    "        self.medicalOverlap_dict = {}\n",
    "        for i,j in self.medicalRecord_df.groupby(['PatientID','ConsultTime']).groups.items():\n",
    "            if len(j) != 1:\n",
    "                self.medicalOverlap_dict[i] = j\n",
    "        \n",
    "        numMaxList = []\n",
    "        for i,j in self.medicalOverlap_dict.items():\n",
    "            strNum = []\n",
    "            for k in j:\n",
    "                strNum.append(len(self.medicalRecord_df.loc[k,'ProgressNote']))\n",
    "            numMaxList.append(j[strNum.index(max(strNum))])\n",
    "            \n",
    "        overlapList = []\n",
    "        for i,j in self.medicalOverlap_dict.items():\n",
    "            for k in j:\n",
    "                overlapList.append(k)\n",
    "                \n",
    "        reserved = self.medicalRecord_df.loc[numMaxList]\n",
    "        self.medicalRecord_df.drop(overlapList, inplace = True)\n",
    "        self.medicalRecord_df = self.medicalRecord_df.append(reserved)\n",
    "        \n",
    "    def to_csv(self):\n",
    "        self.medicalRecord_df.to_csv(self.path +'\\\\sheets\\\\medicalRecord.csv', encoding = 'utf-16')"
   ]
  },
  {
   "cell_type": "code",
   "execution_count": 4,
   "metadata": {},
   "outputs": [],
   "source": [
    "gangnam = medicalRecord(region = 'gangnam')\n",
    "gangnam.basicPreprocessing()\n",
    "gangnam.progressNoteStrip()\n",
    "gangnam.medication()\n",
    "gangnam.bothNanDelete()\n",
    "gangnam.deleteOverlap()\n",
    "gangnam.to_csv()"
   ]
  },
  {
   "cell_type": "code",
   "execution_count": 11,
   "metadata": {},
   "outputs": [
    {
     "name": "stderr",
     "output_type": "stream",
     "text": [
      "C:\\ProgramData\\Anaconda3\\lib\\site-packages\\IPython\\core\\interactiveshell.py:3249: DtypeWarning: Columns (5) have mixed types. Specify dtype option on import or set low_memory=False.\n",
      "  if (await self.run_code(code, result,  async_=asy)):\n"
     ]
    },
    {
     "ename": "KeyboardInterrupt",
     "evalue": "",
     "output_type": "error",
     "traceback": [
      "\u001b[1;31m---------------------------------------------------------------------------\u001b[0m",
      "\u001b[1;31mKeyboardInterrupt\u001b[0m                         Traceback (most recent call last)",
      "\u001b[1;32m<ipython-input-11-d44e36e911f8>\u001b[0m in \u001b[0;36m<module>\u001b[1;34m\u001b[0m\n\u001b[0;32m      1\u001b[0m \u001b[0mjamsil\u001b[0m \u001b[1;33m=\u001b[0m \u001b[0mmedicalRecord\u001b[0m\u001b[1;33m(\u001b[0m\u001b[0mregion\u001b[0m \u001b[1;33m=\u001b[0m \u001b[1;34m'jamsil'\u001b[0m\u001b[1;33m)\u001b[0m\u001b[1;33m\u001b[0m\u001b[1;33m\u001b[0m\u001b[0m\n\u001b[0;32m      2\u001b[0m \u001b[0mjamsil\u001b[0m\u001b[1;33m.\u001b[0m\u001b[0mbasicPreprocessing\u001b[0m\u001b[1;33m(\u001b[0m\u001b[1;33m)\u001b[0m\u001b[1;33m\u001b[0m\u001b[1;33m\u001b[0m\u001b[0m\n\u001b[1;32m----> 3\u001b[1;33m \u001b[0mjamsil\u001b[0m\u001b[1;33m.\u001b[0m\u001b[0mprogressNoteStrip\u001b[0m\u001b[1;33m(\u001b[0m\u001b[1;33m)\u001b[0m\u001b[1;33m\u001b[0m\u001b[1;33m\u001b[0m\u001b[0m\n\u001b[0m\u001b[0;32m      4\u001b[0m \u001b[0mjamsil\u001b[0m\u001b[1;33m.\u001b[0m\u001b[0mmedication\u001b[0m\u001b[1;33m(\u001b[0m\u001b[1;33m)\u001b[0m\u001b[1;33m\u001b[0m\u001b[1;33m\u001b[0m\u001b[0m\n\u001b[0;32m      5\u001b[0m \u001b[0mjamsil\u001b[0m\u001b[1;33m.\u001b[0m\u001b[0mbothNanDelete\u001b[0m\u001b[1;33m(\u001b[0m\u001b[1;33m)\u001b[0m\u001b[1;33m\u001b[0m\u001b[1;33m\u001b[0m\u001b[0m\n",
      "\u001b[1;32m<ipython-input-3-1fc54d0e4818>\u001b[0m in \u001b[0;36mprogressNoteStrip\u001b[1;34m(self)\u001b[0m\n\u001b[0;32m     18\u001b[0m                 \u001b[0mself\u001b[0m\u001b[1;33m.\u001b[0m\u001b[0mmedicalRecord_df\u001b[0m\u001b[1;33m.\u001b[0m\u001b[0mloc\u001b[0m\u001b[1;33m[\u001b[0m\u001b[0mi\u001b[0m\u001b[1;33m,\u001b[0m\u001b[1;34m'ProgressNote'\u001b[0m\u001b[1;33m]\u001b[0m \u001b[1;33m=\u001b[0m \u001b[1;34m''\u001b[0m\u001b[1;33m\u001b[0m\u001b[1;33m\u001b[0m\u001b[0m\n\u001b[0;32m     19\u001b[0m             \u001b[1;32melse\u001b[0m\u001b[1;33m:\u001b[0m\u001b[1;33m\u001b[0m\u001b[1;33m\u001b[0m\u001b[0m\n\u001b[1;32m---> 20\u001b[1;33m                 \u001b[0mself\u001b[0m\u001b[1;33m.\u001b[0m\u001b[0mmedicalRecord_df\u001b[0m\u001b[1;33m.\u001b[0m\u001b[0mloc\u001b[0m\u001b[1;33m[\u001b[0m\u001b[0mi\u001b[0m\u001b[1;33m,\u001b[0m\u001b[1;34m'ProgressNote'\u001b[0m\u001b[1;33m]\u001b[0m \u001b[1;33m=\u001b[0m \u001b[0mself\u001b[0m\u001b[1;33m.\u001b[0m\u001b[0mmedicalRecord_df\u001b[0m\u001b[1;33m.\u001b[0m\u001b[0mloc\u001b[0m\u001b[1;33m[\u001b[0m\u001b[0mi\u001b[0m\u001b[1;33m,\u001b[0m\u001b[1;34m'ProgressNote'\u001b[0m\u001b[1;33m]\u001b[0m\u001b[1;33m.\u001b[0m\u001b[0mstrip\u001b[0m\u001b[1;33m(\u001b[0m\u001b[1;33m)\u001b[0m\u001b[1;33m\u001b[0m\u001b[1;33m\u001b[0m\u001b[0m\n\u001b[0m\u001b[0;32m     21\u001b[0m \u001b[1;33m\u001b[0m\u001b[0m\n\u001b[0;32m     22\u001b[0m     \u001b[1;32mdef\u001b[0m \u001b[0mmedication\u001b[0m\u001b[1;33m(\u001b[0m\u001b[0mself\u001b[0m\u001b[1;33m)\u001b[0m\u001b[1;33m:\u001b[0m\u001b[1;33m\u001b[0m\u001b[1;33m\u001b[0m\u001b[0m\n",
      "\u001b[1;32mC:\\ProgramData\\Anaconda3\\lib\\site-packages\\pandas\\core\\indexing.py\u001b[0m in \u001b[0;36m__setitem__\u001b[1;34m(self, key, value)\u001b[0m\n\u001b[0;32m    203\u001b[0m             \u001b[0mkey\u001b[0m \u001b[1;33m=\u001b[0m \u001b[0mcom\u001b[0m\u001b[1;33m.\u001b[0m\u001b[0mapply_if_callable\u001b[0m\u001b[1;33m(\u001b[0m\u001b[0mkey\u001b[0m\u001b[1;33m,\u001b[0m \u001b[0mself\u001b[0m\u001b[1;33m.\u001b[0m\u001b[0mobj\u001b[0m\u001b[1;33m)\u001b[0m\u001b[1;33m\u001b[0m\u001b[1;33m\u001b[0m\u001b[0m\n\u001b[0;32m    204\u001b[0m         \u001b[0mindexer\u001b[0m \u001b[1;33m=\u001b[0m \u001b[0mself\u001b[0m\u001b[1;33m.\u001b[0m\u001b[0m_get_setitem_indexer\u001b[0m\u001b[1;33m(\u001b[0m\u001b[0mkey\u001b[0m\u001b[1;33m)\u001b[0m\u001b[1;33m\u001b[0m\u001b[1;33m\u001b[0m\u001b[0m\n\u001b[1;32m--> 205\u001b[1;33m         \u001b[0mself\u001b[0m\u001b[1;33m.\u001b[0m\u001b[0m_setitem_with_indexer\u001b[0m\u001b[1;33m(\u001b[0m\u001b[0mindexer\u001b[0m\u001b[1;33m,\u001b[0m \u001b[0mvalue\u001b[0m\u001b[1;33m)\u001b[0m\u001b[1;33m\u001b[0m\u001b[1;33m\u001b[0m\u001b[0m\n\u001b[0m\u001b[0;32m    206\u001b[0m \u001b[1;33m\u001b[0m\u001b[0m\n\u001b[0;32m    207\u001b[0m     \u001b[1;32mdef\u001b[0m \u001b[0m_validate_key\u001b[0m\u001b[1;33m(\u001b[0m\u001b[0mself\u001b[0m\u001b[1;33m,\u001b[0m \u001b[0mkey\u001b[0m\u001b[1;33m,\u001b[0m \u001b[0maxis\u001b[0m\u001b[1;33m:\u001b[0m \u001b[0mint\u001b[0m\u001b[1;33m)\u001b[0m\u001b[1;33m:\u001b[0m\u001b[1;33m\u001b[0m\u001b[1;33m\u001b[0m\u001b[0m\n",
      "\u001b[1;32mC:\\ProgramData\\Anaconda3\\lib\\site-packages\\pandas\\core\\indexing.py\u001b[0m in \u001b[0;36m_setitem_with_indexer\u001b[1;34m(self, indexer, value)\u001b[0m\n\u001b[0;32m    555\u001b[0m                 \u001b[1;31m# scalar\u001b[0m\u001b[1;33m\u001b[0m\u001b[1;33m\u001b[0m\u001b[1;33m\u001b[0m\u001b[0m\n\u001b[0;32m    556\u001b[0m                 \u001b[1;32mfor\u001b[0m \u001b[0mitem\u001b[0m \u001b[1;32min\u001b[0m \u001b[0mlabels\u001b[0m\u001b[1;33m:\u001b[0m\u001b[1;33m\u001b[0m\u001b[1;33m\u001b[0m\u001b[0m\n\u001b[1;32m--> 557\u001b[1;33m                     \u001b[0msetter\u001b[0m\u001b[1;33m(\u001b[0m\u001b[0mitem\u001b[0m\u001b[1;33m,\u001b[0m \u001b[0mvalue\u001b[0m\u001b[1;33m)\u001b[0m\u001b[1;33m\u001b[0m\u001b[1;33m\u001b[0m\u001b[0m\n\u001b[0m\u001b[0;32m    558\u001b[0m \u001b[1;33m\u001b[0m\u001b[0m\n\u001b[0;32m    559\u001b[0m         \u001b[1;32melse\u001b[0m\u001b[1;33m:\u001b[0m\u001b[1;33m\u001b[0m\u001b[1;33m\u001b[0m\u001b[0m\n",
      "\u001b[1;31mKeyboardInterrupt\u001b[0m: "
     ]
    }
   ],
   "source": [
    "jamsil = medicalRecord(region = 'jamsil')\n",
    "jamsil.basicPreprocessing()\n",
    "jamsil.progressNoteStrip()\n",
    "jamsil.medication()\n",
    "jamsil.bothNanDelete()\n",
    "jamsil.deleteOverlap()\n",
    "jamsil.to_csv()"
   ]
  },
  {
   "cell_type": "code",
   "execution_count": null,
   "metadata": {},
   "outputs": [
    {
     "name": "stderr",
     "output_type": "stream",
     "text": [
      "C:\\ProgramData\\Anaconda3\\lib\\site-packages\\IPython\\core\\interactiveshell.py:3249: DtypeWarning: Columns (5,35) have mixed types. Specify dtype option on import or set low_memory=False.\n",
      "  if (await self.run_code(code, result,  async_=asy)):\n"
     ]
    }
   ],
   "source": [
    "boondang = medicalRecord(region = 'boondang')\n",
    "boondang.basicPreprocessing()\n",
    "boondang.progressNoteStrip()\n",
    "boondang.medication()\n",
    "boondang.bothNanDelete()\n",
    "boondang.deleteOverlap()\n",
    "boondang.to_csv()"
   ]
  },
  {
   "cell_type": "code",
   "execution_count": null,
   "metadata": {},
   "outputs": [],
   "source": [
    "hongdae = medicalRecord(region = 'hongdae')\n",
    "hongdae.basicPreprocessing()\n",
    "hongdae.progressNoteStrip()\n",
    "hongdae.medication()\n",
    "hongdae.bothNanDelete()\n",
    "hongdae.deleteOverlap()\n",
    "hongdae.to_csv()"
   ]
  },
  {
   "cell_type": "code",
   "execution_count": null,
   "metadata": {},
   "outputs": [],
   "source": []
  }
 ],
 "metadata": {
  "kernelspec": {
   "display_name": "Python 3",
   "language": "python",
   "name": "python3"
  },
  "language_info": {
   "codemirror_mode": {
    "name": "ipython",
    "version": 3
   },
   "file_extension": ".py",
   "mimetype": "text/x-python",
   "name": "python",
   "nbconvert_exporter": "python",
   "pygments_lexer": "ipython3",
   "version": "3.7.4"
  }
 },
 "nbformat": 4,
 "nbformat_minor": 2
}
