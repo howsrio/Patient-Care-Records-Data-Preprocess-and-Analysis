{
 "cells": [
  {
   "cell_type": "code",
   "execution_count": 5,
   "id": "bead6ef9-72bf-464b-915f-4b493545c5fe",
   "metadata": {},
   "outputs": [
    {
     "ename": "ModuleNotFoundError",
     "evalue": "No module named 'DataPreprocess'",
     "output_type": "error",
     "traceback": [
      "\u001b[1;31m---------------------------------------------------------------------------\u001b[0m",
      "\u001b[1;31mModuleNotFoundError\u001b[0m                       Traceback (most recent call last)",
      "Cell \u001b[1;32mIn[5], line 7\u001b[0m\n\u001b[0;32m      5\u001b[0m \u001b[38;5;28;01mimport\u001b[39;00m \u001b[38;5;21;01mtime\u001b[39;00m\n\u001b[0;32m      6\u001b[0m \u001b[38;5;28;01mimport\u001b[39;00m \u001b[38;5;21;01mmatplotlib\u001b[39;00m\u001b[38;5;21;01m.\u001b[39;00m\u001b[38;5;21;01mpyplot\u001b[39;00m \u001b[38;5;28;01mas\u001b[39;00m \u001b[38;5;21;01mplt\u001b[39;00m\n\u001b[1;32m----> 7\u001b[0m \u001b[38;5;28;01mfrom\u001b[39;00m \u001b[38;5;21;01mDataPreprocess\u001b[39;00m \u001b[38;5;28;01mimport\u001b[39;00m DataPreprocess\n\u001b[0;32m      9\u001b[0m \u001b[38;5;28;01mclass\u001b[39;00m \u001b[38;5;21;01mmergeRegion\u001b[39;00m:\n\u001b[0;32m     10\u001b[0m     \u001b[38;5;28;01mdef\u001b[39;00m \u001b[38;5;21m__init__\u001b[39m(\u001b[38;5;28mself\u001b[39m):\n",
      "\u001b[1;31mModuleNotFoundError\u001b[0m: No module named 'DataPreprocess'"
     ]
    }
   ],
   "source": [
    "import numpy as np\n",
    "import pandas as pd\n",
    "import os \n",
    "import sys\n",
    "import time\n",
    "import matplotlib.pyplot as plt\n",
    "from DataPreprocess import DataPreprocess\n",
    "\n",
    "class mergeRegion:\n",
    "    def __init__(self):\n",
    "        self.path = os.getcwd()[:-5]   # '\\\\region\\\\{}'.format(region)\n",
    "        self.region_list = ['bucheon', 'bundang', 'busan', 'hongdae', 'jamsil', 'gangnam','incheon']\n",
    "\n",
    "    def makeDir(self):\n",
    "        self.newPath = os.path.join(f'{self.path}\\\\MergeRegionData')\n",
    "        if not os.path.exists(self.newPath):\n",
    "            os.makedirs(os.path.join(f'{self.path}\\\\MergeRegionData'))\n",
    "        else:\n",
    "            print('이미 존재합니다.')\n",
    "\n",
    "    def delDir(self):\n",
    "        self.newPath = os.path.join(f'{self.path}\\\\MergeRegionData')\n",
    "        # 'PreprocessData' 폴더가 존재하는지 확인하고 삭제\n",
    "        if os.path.exists(self.newPath) and os.path.isdir(self.newPath):\n",
    "            try:\n",
    "                shutil.rmtree(self.newPath)\n",
    "                print(f\"'{self.newPath}' 폴더가 성공적으로 삭제되었습니다.\")\n",
    "            except Exception as e:\n",
    "                print(f\"폴더를 삭제하는 중 오류가 발생했습니다: {e}\")\n",
    "        else:\n",
    "            print(f\"'{self.newPath}' 폴더가 존재하지 않습니다.\")\n",
    "\n",
    "    def dataSet(self):\n",
    "\n",
    "        self.preprocessPathList = []\n",
    "        self.dataDict = {}\n",
    "        for region in self.region_list:\n",
    "            preprocessPath = os.path.join(f'{self.path}\\\\{region}\\\\PreprocessData\\\\{region}_merge.csv')\n",
    "            self.preprocessPathList.append(preprocessPath)\n",
    "            self.dataDict[i] = pd.read_csv(preprocessPath, encoding='utf_16', index_col=0)\n",
    "\n",
    "        self.fileList = self.preprocessPathList\n",
    "        print('All files are added')\n",
    "        return self.dataDict\n",
    "    "
   ]
  },
  {
   "cell_type": "code",
   "execution_count": 2,
   "id": "a76f2abe-23a4-4786-9293-494ed1afc7b8",
   "metadata": {},
   "outputs": [
    {
     "ename": "NameError",
     "evalue": "name 'os' is not defined",
     "output_type": "error",
     "traceback": [
      "\u001b[1;31m---------------------------------------------------------------------------\u001b[0m",
      "\u001b[1;31mNameError\u001b[0m                                 Traceback (most recent call last)",
      "Cell \u001b[1;32mIn[2], line 1\u001b[0m\n\u001b[1;32m----> 1\u001b[0m Merge \u001b[38;5;241m=\u001b[39m mergeRegion()\n",
      "Cell \u001b[1;32mIn[1], line 3\u001b[0m, in \u001b[0;36mmergeRegion.__init__\u001b[1;34m(self)\u001b[0m\n\u001b[0;32m      2\u001b[0m \u001b[38;5;28;01mdef\u001b[39;00m \u001b[38;5;21m__init__\u001b[39m(\u001b[38;5;28mself\u001b[39m):\n\u001b[1;32m----> 3\u001b[0m     \u001b[38;5;28mself\u001b[39m\u001b[38;5;241m.\u001b[39mpath \u001b[38;5;241m=\u001b[39m os\u001b[38;5;241m.\u001b[39mgetcwd()[:\u001b[38;5;241m-\u001b[39m\u001b[38;5;241m5\u001b[39m]   \u001b[38;5;66;03m# '\\\\region\\\\{}'.format(region)\u001b[39;00m\n\u001b[0;32m      4\u001b[0m     \u001b[38;5;28mself\u001b[39m\u001b[38;5;241m.\u001b[39mregion_list \u001b[38;5;241m=\u001b[39m [\u001b[38;5;124m'\u001b[39m\u001b[38;5;124mbucheon\u001b[39m\u001b[38;5;124m'\u001b[39m, \u001b[38;5;124m'\u001b[39m\u001b[38;5;124mbundang\u001b[39m\u001b[38;5;124m'\u001b[39m, \u001b[38;5;124m'\u001b[39m\u001b[38;5;124mbusan\u001b[39m\u001b[38;5;124m'\u001b[39m, \u001b[38;5;124m'\u001b[39m\u001b[38;5;124mhongdae\u001b[39m\u001b[38;5;124m'\u001b[39m, \u001b[38;5;124m'\u001b[39m\u001b[38;5;124mjamsil\u001b[39m\u001b[38;5;124m'\u001b[39m, \u001b[38;5;124m'\u001b[39m\u001b[38;5;124mgangnam\u001b[39m\u001b[38;5;124m'\u001b[39m,\u001b[38;5;124m'\u001b[39m\u001b[38;5;124mincheon\u001b[39m\u001b[38;5;124m'\u001b[39m]\n",
      "\u001b[1;31mNameError\u001b[0m: name 'os' is not defined"
     ]
    }
   ],
   "source": [
    "Merge = mergeRegion()"
   ]
  },
  {
   "cell_type": "code",
   "execution_count": null,
   "id": "07e56702-69f9-4264-af6a-a12ce7dbfe83",
   "metadata": {},
   "outputs": [],
   "source": []
  }
 ],
 "metadata": {
  "kernelspec": {
   "display_name": "Python 3 (ipykernel)",
   "language": "python",
   "name": "python3"
  },
  "language_info": {
   "codemirror_mode": {
    "name": "ipython",
    "version": 3
   },
   "file_extension": ".py",
   "mimetype": "text/x-python",
   "name": "python",
   "nbconvert_exporter": "python",
   "pygments_lexer": "ipython3",
   "version": "3.11.7"
  }
 },
 "nbformat": 4,
 "nbformat_minor": 5
}
