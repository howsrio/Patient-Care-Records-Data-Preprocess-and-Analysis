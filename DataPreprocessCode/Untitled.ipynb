{
 "cells": [
  {
   "cell_type": "code",
   "execution_count": 3,
   "id": "5e7fa319-4b3c-410b-9354-0fec070f2893",
   "metadata": {},
   "outputs": [],
   "source": [
    "from DataPreprocess import DataPreprocess"
   ]
  },
  {
   "cell_type": "code",
   "execution_count": 5,
   "id": "009cdc60-c749-4036-9306-cd69d2612103",
   "metadata": {},
   "outputs": [],
   "source": [
    "bun = DataPreprocess('bundang')"
   ]
  },
  {
   "cell_type": "code",
   "execution_count": 6,
   "id": "303dfcf7-43d1-4aad-b9f4-bb0b64637ba4",
   "metadata": {},
   "outputs": [
    {
     "name": "stdout",
     "output_type": "stream",
     "text": [
      "bundang_inbody_df 로드 완료\n",
      "bundang_medical_df 로드 완료\n",
      "bundang_vital_df 로드 완료\n"
     ]
    },
    {
     "name": "stderr",
     "output_type": "stream",
     "text": [
      "C:\\Users\\howsr\\workspace\\1_DataPreprocessing\\basis\\code\\DataPreprocessCode\\DataPreprocess.py:379: DtypeWarning: Columns (4,29,57,65) have mixed types. Specify dtype option on import or set low_memory=False.\n",
      "  pass\n"
     ]
    }
   ],
   "source": [
    "bun.loadPreprocessData()"
   ]
  },
  {
   "cell_type": "code",
   "execution_count": 12,
   "id": "8b01eb5c-a0ad-4f7f-98e5-3989e666eeb1",
   "metadata": {},
   "outputs": [
    {
     "name": "stdout",
     "output_type": "stream",
     "text": [
      "bundang_merge_df 저장완료\n"
     ]
    }
   ],
   "source": [
    "bun.saveMergeData()"
   ]
  },
  {
   "cell_type": "code",
   "execution_count": null,
   "id": "f9ce126d-4eb0-4021-b6b0-3f769f86d1e7",
   "metadata": {},
   "outputs": [],
   "source": []
  }
 ],
 "metadata": {
  "kernelspec": {
   "display_name": "Python 3 (ipykernel)",
   "language": "python",
   "name": "python3"
  },
  "language_info": {
   "codemirror_mode": {
    "name": "ipython",
    "version": 3
   },
   "file_extension": ".py",
   "mimetype": "text/x-python",
   "name": "python",
   "nbconvert_exporter": "python",
   "pygments_lexer": "ipython3",
   "version": "3.11.7"
  }
 },
 "nbformat": 4,
 "nbformat_minor": 5
}
