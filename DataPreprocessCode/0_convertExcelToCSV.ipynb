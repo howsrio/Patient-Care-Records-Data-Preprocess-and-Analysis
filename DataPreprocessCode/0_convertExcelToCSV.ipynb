{
 "cells": [
  {
   "cell_type": "code",
   "execution_count": 1,
   "metadata": {},
   "outputs": [
    {
     "ename": "ModuleNotFoundError",
     "evalue": "No module named 'xlrd'",
     "output_type": "error",
     "traceback": [
      "\u001b[1;31m---------------------------------------------------------------------------\u001b[0m",
      "\u001b[1;31mModuleNotFoundError\u001b[0m                       Traceback (most recent call last)",
      "Cell \u001b[1;32mIn[1], line 5\u001b[0m\n\u001b[0;32m      3\u001b[0m \u001b[38;5;28;01mimport\u001b[39;00m \u001b[38;5;21;01mos\u001b[39;00m\n\u001b[0;32m      4\u001b[0m \u001b[38;5;28;01mimport\u001b[39;00m \u001b[38;5;21;01mopenpyxl\u001b[39;00m\n\u001b[1;32m----> 5\u001b[0m \u001b[38;5;28;01mimport\u001b[39;00m \u001b[38;5;21;01mxlrd\u001b[39;00m\n\u001b[0;32m      6\u001b[0m \u001b[38;5;28;01mimport\u001b[39;00m \u001b[38;5;21;01mtime\u001b[39;00m\n\u001b[0;32m      7\u001b[0m \u001b[38;5;28;01mimport\u001b[39;00m \u001b[38;5;21;01mshutil\u001b[39;00m\n",
      "\u001b[1;31mModuleNotFoundError\u001b[0m: No module named 'xlrd'"
     ]
    }
   ],
   "source": [
    "import pandas as pd\n",
    "import numpy as np\n",
    "import os\n",
    "import openpyxl\n",
    "import xlrd\n",
    "import time\n",
    "import shutil"
   ]
  },
  {
   "cell_type": "code",
   "execution_count": 62,
   "metadata": {},
   "outputs": [],
   "source": [
    "class excelToCsv:\n",
    "    \n",
    "    def __init__(self , SourcePath, RegionPath ,regionEnglish, regionKorea):\n",
    "        self.RootPath       = os.getcwd()[:-31]  # os.getcwd()[ : os.getcwd().index('AI') + 2  ] 원래이거엿음 오류잇으면 이걸로 수정\n",
    "        self.SourcePath     = SourcePath\n",
    "        self.RegionPath     = RegionPath\n",
    "        self.regionEnglish  = regionEnglish\n",
    "        self.regionKorea    = regionKorea\n",
    "        \n",
    "    def makeDir(self):\n",
    "\n",
    "        self.newPath = self.RootPath + '\\\\' + self.RegionPath +'\\\\' + self.regionEnglish\n",
    "        \n",
    "        # 이미 파일이 있을경우 중복으로 생성되지 않게 변경\n",
    "        if not os.path.exists(self.newPath):\n",
    "            os.makedirs(os.path.join(f'{self.RootPath}\\\\{self.RegionPath}\\\\{self.regionEnglish}'))\n",
    "        else:\n",
    "            print('이미 존재합니다.')\n",
    "\n",
    "        \n",
    "    def convert(self):\n",
    "#         xls_pd = pd.ExcelFile(self.RootPath + '\\\\' + self.SourcePath + '\\\\' +\\\n",
    "#                               '누베베한의원(한차트 전지점 2년 데이터)\\\\누베베한의원'+'\\\\누베베한의원 ({}).xlsx'.format(self.regionKorea) )\n",
    "        xls_pd = pd.ExcelFile(f'{self.RootPath}\\\\{self.SourcePath}\\\\{self.regionEnglish}.xlsx')\n",
    "        \n",
    "        sheets = xls_pd.sheet_names\n",
    "        for i in sheets[1:]:\n",
    "            temp = pd.read_excel(xls_pd, sheet_name = i)\n",
    "            temp.to_csv(self.newPath + '\\\\{}_{}.csv'.format(self.regionEnglish, i  ) , encoding = 'utf-16')\n",
    "        print('변환 완료')\n",
    "          \n",
    "    #이번데이터에는 따로 개인 정보 파일(Personal)파일이 존재하지 않는 것으로 보임 \n",
    "    def privateConvert(self):\n",
    "        self.newPath = self.RootPath + '\\\\' + self.RegionPath +'\\\\' + self.regionEnglish\n",
    "        xls_pd = pd.ExcelFile(f'{self.RootPath}\\\\{self.SourcePath}\\\\{self.regionEnglish}.xlsx')\n",
    "        sheets = xls_pd.sheet_names\n",
    "        temp = pd.read_excel(xls_pd, sheet_name = sheets[0])\n",
    "        temp.to_csv(self.newPath + '\\\\{}_{}.csv'.format(self.regionEnglish, sheets[0]  ) , encoding = 'utf-16')\n",
    "        \n",
    "# 한 지점당 8분 정도가 걸림."
   ]
  },
  {
   "cell_type": "code",
   "execution_count": 63,
   "metadata": {},
   "outputs": [],
   "source": [
    "gangnam = excelToCsv(SourcePath = '0_OriginalSource\\\\rawdata' , RegionPath = '1_DataPreprocessing\\\\basis\\\\region',\n",
    "                     regionEnglish = 'gangnam' , regionKorea = '강남')\n",
    "bucheon = excelToCsv(SourcePath = '0_OriginalSource\\\\rawdata' , RegionPath = '1_DataPreprocessing\\\\basis\\\\region',\n",
    "                     regionEnglish = 'bucheon' , regionKorea = '부천')\n",
    "bundang = excelToCsv(SourcePath = '0_OriginalSource\\\\rawdata' , RegionPath = '1_DataPreprocessing\\\\basis\\\\region',\n",
    "                     regionEnglish = 'bundang' , regionKorea = '분당')\n",
    "busan = excelToCsv(SourcePath = '0_OriginalSource\\\\rawdata' , RegionPath = '1_DataPreprocessing\\\\basis\\\\region',\n",
    "                     regionEnglish = 'busan' , regionKorea = '부산')\n",
    "hongdae = excelToCsv(SourcePath = '0_OriginalSource\\\\rawdata' , RegionPath = '1_DataPreprocessing\\\\basis\\\\region',\n",
    "                     regionEnglish = 'hongdae' , regionKorea = '홍대')\n",
    "incheon = excelToCsv(SourcePath = '0_OriginalSource\\\\rawdata' , RegionPath = '1_DataPreprocessing\\\\basis\\\\region',\n",
    "                     regionEnglish = 'incheon' , regionKorea = '인천')\n",
    "jamsil = excelToCsv(SourcePath = '0_OriginalSource\\\\rawdata' , RegionPath = '1_DataPreprocessing\\\\basis\\\\region',\n",
    "                     regionEnglish = 'jamsil' , regionKorea = '잠실')\n",
    "\n",
    "region_list=[gangnam, bucheon, bundang, busan, hongdae, incheon, jamsil]"
   ]
  },
  {
   "cell_type": "code",
   "execution_count": 64,
   "metadata": {},
   "outputs": [
    {
     "name": "stdout",
     "output_type": "stream",
     "text": [
      "<__main__.excelToCsv object at 0x000001F395E303C8>\n",
      "<__main__.excelToCsv object at 0x000001F395E30F88>\n",
      "<__main__.excelToCsv object at 0x000001F395E30E48>\n",
      "<__main__.excelToCsv object at 0x000001F395E302C8>\n",
      "<__main__.excelToCsv object at 0x000001F395E30C48>\n",
      "<__main__.excelToCsv object at 0x000001F395E30E08>\n",
      "<__main__.excelToCsv object at 0x000001F395E304C8>\n"
     ]
    }
   ],
   "source": [
    "for region in region_list:\n",
    "    print(region)\n",
    "    region.privateConvert()"
   ]
  },
  {
   "cell_type": "code",
   "execution_count": 41,
   "metadata": {
    "scrolled": true
   },
   "outputs": [
    {
     "name": "stdout",
     "output_type": "stream",
     "text": [
      "<__main__.excelToCsv object at 0x000001F3234F66C8>\n",
      "변환 완료\n",
      "<__main__.excelToCsv object at 0x000001F3234F6808>\n",
      "변환 완료\n",
      "<__main__.excelToCsv object at 0x000001F35EF0A8C8>\n",
      "변환 완료\n",
      "<__main__.excelToCsv object at 0x000001F3234F6608>\n",
      "변환 완료\n",
      "<__main__.excelToCsv object at 0x000001F3234F6548>\n",
      "변환 완료\n",
      "<__main__.excelToCsv object at 0x000001F32356AE48>\n",
      "변환 완료\n",
      "<__main__.excelToCsv object at 0x000001F32356AFC8>\n",
      "변환 완료\n"
     ]
    }
   ],
   "source": [
    "for region in region_list:\n",
    "    print(region)\n",
    "    region.makeDir()\n",
    "    region.convert()\n",
    "    region.privateConvert()"
   ]
  },
  {
   "cell_type": "code",
   "execution_count": null,
   "metadata": {},
   "outputs": [],
   "source": []
  }
 ],
 "metadata": {
  "kernelspec": {
   "display_name": "Python 3 (ipykernel)",
   "language": "python",
   "name": "python3"
  },
  "language_info": {
   "codemirror_mode": {
    "name": "ipython",
    "version": 3
   },
   "file_extension": ".py",
   "mimetype": "text/x-python",
   "name": "python",
   "nbconvert_exporter": "python",
   "pygments_lexer": "ipython3",
   "version": "3.11.7"
  }
 },
 "nbformat": 4,
 "nbformat_minor": 4
}
