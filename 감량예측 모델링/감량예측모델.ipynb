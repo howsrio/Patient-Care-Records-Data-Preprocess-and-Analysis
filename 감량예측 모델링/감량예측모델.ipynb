{
 "cells": [
  {
   "cell_type": "code",
   "execution_count": 23,
   "id": "fcee5eae-88b1-4f27-bdee-45ac1ca73507",
   "metadata": {},
   "outputs": [],
   "source": [
    "from BasisFilter import BasisFilter\n",
    "import pandas as pd\n",
    "import os\n",
    "import copy\n",
    "import numpy as np\n",
    "import re\n",
    "import matplotlib.pyplot as plt"
   ]
  },
  {
   "cell_type": "code",
   "execution_count": 2,
   "id": "7a1cdaca-3bca-4ef2-b7f4-916e5a348283",
   "metadata": {},
   "outputs": [],
   "source": [
    "BF = BasisFilter()"
   ]
  },
  {
   "cell_type": "code",
   "execution_count": 12,
   "id": "10ec4968-ccad-44d6-8789-5a89262f1437",
   "metadata": {},
   "outputs": [],
   "source": [
    "df = pd.read_excel(f'{BF.path}//filtered_data//~24.01.31 대-대-대 환자 감량경과.xlsx')"
   ]
  },
  {
   "cell_type": "code",
   "execution_count": 13,
   "id": "fcf8a204-8ae2-4271-a2e5-b465af4b0a43",
   "metadata": {},
   "outputs": [
    {
     "name": "stdout",
     "output_type": "stream",
     "text": [
      "Memo_1\n",
      "2-1, 2-2         1590\n",
      "2-1               933\n",
      "2-1,2               8\n",
      "2-2, 2-1            7\n",
      "2-1, 1              1\n",
      "2-2, 2-1, 2-2       1\n",
      "Name: count, dtype: int64\n",
      "Memo_2\n",
      "2-1, 2-2         1590\n",
      "2-2               933\n",
      "2-2, 2-1            7\n",
      "2-2, 1              1\n",
      "2-2, 2-1, 2-2       1\n",
      "Name: count, dtype: int64\n"
     ]
    }
   ],
   "source": [
    "print(df['Memo_1'].value_counts())\n",
    "print(df['Memo_2'].value_counts())"
   ]
  },
  {
   "cell_type": "code",
   "execution_count": 16,
   "id": "effb5689-cc98-46c9-ad19-d619a973eac3",
   "metadata": {},
   "outputs": [],
   "source": [
    "df = df[~df['Memo_1'].isin( ['2-2, 2-1', '2-1, 1','2-2, 2-1, 2-2'])]"
   ]
  },
  {
   "cell_type": "code",
   "execution_count": 17,
   "id": "0570b1ac-c476-4159-8e55-74985e4fa8a3",
   "metadata": {},
   "outputs": [
    {
     "name": "stdout",
     "output_type": "stream",
     "text": [
      "Memo_1\n",
      "2-1, 2-2    1590\n",
      "2-1          933\n",
      "2-1,2          8\n",
      "Name: count, dtype: int64\n",
      "Memo_2\n",
      "2-1, 2-2    1590\n",
      "2-2          932\n",
      "2-2, 1         1\n",
      "Name: count, dtype: int64\n"
     ]
    }
   ],
   "source": [
    "print(df['Memo_1'].value_counts())\n",
    "print(df['Memo_2'].value_counts())"
   ]
  },
  {
   "cell_type": "code",
   "execution_count": 20,
   "id": "6b7553db-e64c-4c7f-a90c-5fd1e0026039",
   "metadata": {},
   "outputs": [],
   "source": [
    "df = df[df['Memo_2'] != '2-2, 1']"
   ]
  },
  {
   "cell_type": "code",
   "execution_count": 22,
   "id": "903b0250-dc18-4acd-9a73-51016a06ebae",
   "metadata": {},
   "outputs": [
    {
     "data": {
      "text/plain": [
       "1        44\n",
       "3        55\n",
       "4        49\n",
       "5        75\n",
       "6        95\n",
       "       ... \n",
       "2534    118\n",
       "2535    105\n",
       "2536     44\n",
       "2537     42\n",
       "2538     99\n",
       "Name: Period_3, Length: 1590, dtype: int64"
      ]
     },
     "execution_count": 22,
     "metadata": {},
     "output_type": "execute_result"
    }
   ],
   "source": [
    "df[df['Memo_1'] =='2-1, 2-2']['Period_3']"
   ]
  },
  {
   "cell_type": "code",
   "execution_count": 28,
   "id": "afc3e67c-5a8c-4ad5-9ea1-64ed0a8270af",
   "metadata": {},
   "outputs": [
    {
     "data": {
      "image/png": "[encoded data removed]",
      "text/plain": [
       "<Figure size 640x480 with 1 Axes>"
      ]
     },
     "metadata": {},
     "output_type": "display_data"
    }
   ],
   "source": [
    "# 히스토그램 그리기\n",
    "plt.hist(df[df['Memo_1'] =='2-1, 2-2']['Period_3'], bins=20, edgecolor='black')  # bins는 막대의 개수\n",
    "plt.title('Histogram')\n",
    "plt.xlabel('Value')\n",
    "plt.ylabel('Frequency')\n",
    "plt.show()\n"
   ]
  }
 ],
 "metadata": {
  "kernelspec": {
   "display_name": "Python 3 (ipykernel)",
   "language": "python",
   "name": "python3"
  },
  "language_info": {
   "codemirror_mode": {
    "name": "ipython",
    "version": 3
   },
   "file_extension": ".py",
   "mimetype": "text/x-python",
   "name": "python",
   "nbconvert_exporter": "python",
   "pygments_lexer": "ipython3",
   "version": "3.11.7"
  }
 },
 "nbformat": 4,
 "nbformat_minor": 5
}
